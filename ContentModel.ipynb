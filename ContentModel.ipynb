{
 "cells": [
  {
   "cell_type": "code",
   "execution_count": 990,
   "id": "b0493776",
   "metadata": {},
   "outputs": [],
   "source": [
    "import os\n",
    "import itertools\n",
    "import numpy as np\n",
    "import nltk\n",
    "import math\n",
    "import pickle\n",
    "\n",
    "import torch\n",
    "import torch.nn as nn\n",
    "import torch.nn.functional as F\n",
    "from tqdm import tqdm"
   ]
  },
  {
   "cell_type": "code",
   "execution_count": 1042,
   "id": "b8b3939c",
   "metadata": {},
   "outputs": [],
   "source": [
    "class Config:\n",
    "    dataset = \"resource\"  # change this to the right data name\n",
    "    data_path = \"./\"\n",
    "    n_topics = 50\n",
    "    learning_rate = 0.00002\n",
    "    vocab_size = 619\n",
    "    n_stops = 22 \n",
    "    lda_vocab_size = vocab_size - n_stops\n",
    "    n_hidden = 200\n",
    "    n_layers = 2\n",
    "    input_dim = 619\n",
    "    gru_embedding_dim = 100\n",
    "    projector_embed_dim = 100\n",
    "    generator_embed_dim = 200\n",
    "    max_len = 300"
   ]
  },
  {
   "cell_type": "code",
   "execution_count": 1043,
   "id": "d03ac03a",
   "metadata": {},
   "outputs": [],
   "source": [
    "import pickle as cPickle\n",
    "import numpy as np\n",
    "\n",
    "def save_pkl(path, obj):\n",
    "    with open(path, 'w') as f:\n",
    "        cPickle.dump(obj, f)\n",
    "    print(\" [*] save %s\" % path)\n",
    "\n",
    "def load_pkl(path):\n",
    "    with open(path, 'rb') as f:\n",
    "        obj = cPickle.load(f)\n",
    "    print(\" [*] load %s\" % path)\n",
    "    return obj\n",
    "\n",
    "def save_npy(path, obj):\n",
    "    np.save(path, obj)\n",
    "    print(\" [*] save %s\" % path)\n",
    "\n",
    "def load_npy(path):\n",
    "    obj = np.load(path)\n",
    "    print(\" [*] load %s\" % path)\n",
    "    return obj"
   ]
  },
  {
   "cell_type": "code",
   "execution_count": 1044,
   "id": "4c850270",
   "metadata": {},
   "outputs": [],
   "source": [
    "DATA_PATH = './'"
   ]
  },
  {
   "cell_type": "code",
   "execution_count": null,
   "id": "b2dd3cf3",
   "metadata": {
    "scrolled": true
   },
   "outputs": [],
   "source": []
  },
  {
   "cell_type": "code",
   "execution_count": 1045,
   "id": "02177ee5",
   "metadata": {},
   "outputs": [
    {
     "name": "stdout",
     "output_type": "stream",
     "text": [
      "490\n"
     ]
    }
   ],
   "source": [
    "vocab = pickle.load(open(os.path.join(DATA_PATH,'vocab.pkl'), 'rb'))\n",
    "x_train = pickle.load(open(os.path.join(DATA_PATH,'X_train.pkl'), 'rb'))\n",
    "y_train = pickle.load(open(os.path.join(DATA_PATH,'Y_train.pkl'), 'rb'))\n",
    "x_val = pickle.load(open(os.path.join(DATA_PATH,'X_valid.pkl'), 'rb'))\n",
    "y_val = pickle.load(open(os.path.join(DATA_PATH,'Y_valid.pkl'), 'rb'))\n",
    "\n",
    "global_config = Config()\n",
    "\n",
    "assert len(x_train) == len(y_train)\n",
    "print(len(vocab))"
   ]
  },
  {
   "cell_type": "code",
   "execution_count": 1046,
   "id": "df0b94fb",
   "metadata": {},
   "outputs": [],
   "source": [
    "from torch.utils.data import Dataset\n",
    "\n",
    "\n",
    "class CustomDataset(Dataset):\n",
    "    def __init__(self, x, y):\n",
    "        self.x = x\n",
    "        self.y = y\n",
    "    \n",
    "    def __len__(self):\n",
    "        \n",
    "        \"\"\"\n",
    "        TODO: Return the number of samples (i.e. patients).\n",
    "        \"\"\"\n",
    "        \n",
    "        # your code here\n",
    "        #raise NotImplementedError\n",
    "        return len(self.x)\n",
    "    \n",
    "    def __getitem__(self, index):\n",
    "        \n",
    "        \"\"\"\n",
    "        TODO: Generates one sample of data.\n",
    "        \n",
    "        Note that you DO NOT need to covert them to tensor as we will do this later.\n",
    "        \"\"\"\n",
    "        \n",
    "        # your code here\n",
    "        #raise NotImplementedError\n",
    "        return (self.x[index],self.y[index])\n",
    "        \n",
    "    def getVisits(self,index):\n",
    "        visits =  []\n",
    "        labels = []\n",
    "        for i,v in enumerate(self.x[index]):\n",
    "            visits.append(v)\n",
    "            labels.append(self.y[index][i])\n",
    "        return visits,labels"
   ]
  },
  {
   "cell_type": "code",
   "execution_count": 1047,
   "id": "d847efe8",
   "metadata": {},
   "outputs": [],
   "source": [
    "train_dataset = CustomDataset(x_train, y_train)\n",
    "val_dataset = CustomDataset(x_val, y_val)\n"
   ]
  },
  {
   "cell_type": "markdown",
   "id": "0fcc10fe",
   "metadata": {},
   "source": [
    "\n"
   ]
  },
  {
   "cell_type": "code",
   "execution_count": null,
   "id": "8bf17b13",
   "metadata": {},
   "outputs": [],
   "source": []
  },
  {
   "cell_type": "markdown",
   "id": "dff03147",
   "metadata": {},
   "source": [
    "## Collate Function.\n",
    "This function convets the data to tensor format. Dataloader calls the collate finction after fecthing a sample set from the customdataset to collate the list of samples into batches\n"
   ]
  },
  {
   "cell_type": "code",
   "execution_count": 997,
   "id": "b91b5af3",
   "metadata": {},
   "outputs": [],
   "source": [
    "def collate_fn(data): \n",
    "    \n",
    "    vocabsize= 619#global_config.vocab_size\n",
    "    maxlen = 300#global_config.max_len\n",
    "    seqs, labels = zip(*data)\n",
    "    lengths = [len(s) for s in seqs]\n",
    "\n",
    "    eventSeq = []\n",
    "\n",
    "    for seq in seqs:\n",
    "        t = []\n",
    "        for visit in seq:\n",
    "            t.extend(visit)\n",
    "        eventSeq.append(t)\n",
    "    eventLengths = [len(s) for s in eventSeq]\n",
    "\n",
    "\n",
    "    if maxlen is not None:\n",
    "        new_seqs = []\n",
    "        new_lengths = []\n",
    "        new_labels = []\n",
    "        for l, s, la in zip(lengths, seqs, labels):\n",
    "            if l < maxlen:\n",
    "                new_seqs.append(s)\n",
    "                new_lengths.append(l)\n",
    "                new_labels.append(la)\n",
    "            else:\n",
    "                new_seqs.append(s[:maxlen])\n",
    "                new_lengths.append(maxlen)\n",
    "                new_labels.append(la[:maxlen])\n",
    "        lengths = new_lengths\n",
    "        seqs = new_seqs\n",
    "        labels = new_labels\n",
    "\n",
    "        if len(lengths) < 1:\n",
    "            return None, None, None\n",
    "\n",
    "    n_samples = len(seqs)\n",
    "    #maxlen = np.max(lengths)\n",
    "\n",
    "    x = torch.zeros((n_samples, maxlen, vocabsize),dtype=torch.float)\n",
    "    x_mask = torch.zeros((n_samples, maxlen,vocabsize),dtype=torch.bool)\n",
    "    y = torch.zeros((n_samples, maxlen),dtype=torch.float)\n",
    "    for idx, s in enumerate(seqs):\n",
    "        x_mask[idx, :lengths[idx]] = 1\n",
    "        for j, sj in enumerate(s):\n",
    "            for tsj in sj:\n",
    "                x[idx, j, tsj-1] = 1\n",
    "    for idx, t in enumerate(labels):\n",
    "        y[idx,:lengths[idx]] = torch.tensor(t, dtype=torch.float)\n",
    "        #if lengths[idx] < maxlen:\n",
    "          #  y[idx,lengths[idx]:] = t[-1]\n",
    "\n",
    "    return x, x_mask, y#, lengths, eventLengths"
   ]
  },
  {
   "cell_type": "code",
   "execution_count": null,
   "id": "7a703ffa",
   "metadata": {},
   "outputs": [],
   "source": []
  },
  {
   "cell_type": "code",
   "execution_count": 998,
   "id": "1e8f1f7f",
   "metadata": {},
   "outputs": [
    {
     "name": "stdout",
     "output_type": "stream",
     "text": [
      "torch.Size([1, 300, 619])\n",
      "tensor([0., 0., 0., 0., 0., 0., 0., 0., 0., 0., 0., 0., 0., 0., 0., 0., 0., 0.,\n",
      "        0., 0., 0., 0., 0., 0., 0., 0., 0., 0., 0., 0., 0., 0., 0., 0., 0., 0.,\n",
      "        0., 0., 0., 0., 0., 0., 0., 0., 0., 0., 0., 0., 0., 0., 0., 0., 0., 0.,\n",
      "        0., 0., 0., 0., 0., 0., 0., 0., 0., 0., 0., 0., 0., 0., 0., 0., 0., 0.,\n",
      "        0., 0., 0., 0., 0., 0., 0., 0., 0., 0., 0., 0., 0., 0., 0., 0., 0., 0.,\n",
      "        0., 0., 0., 0., 0., 0., 0., 0., 0., 0., 0., 0., 0., 0., 0., 0., 0., 0.,\n",
      "        0., 0., 0., 0., 0., 0., 0., 0., 0., 0., 0., 0., 0., 0., 0., 0., 0., 0.,\n",
      "        0., 0., 0., 0., 0., 0., 0., 0., 0., 0., 0., 0., 0., 0., 0., 0., 0., 0.,\n",
      "        0., 0., 0., 0., 0., 0., 0., 0., 0., 0., 0., 0., 0., 0., 0., 0., 0., 0.,\n",
      "        0., 0., 0., 0., 0., 0., 0., 0., 0., 0., 0., 0., 0., 0., 0., 0., 0., 0.,\n",
      "        0., 0., 0., 0., 0., 0., 0., 0., 0., 0., 0., 0., 0., 0., 0., 0., 0., 0.,\n",
      "        0., 0., 0., 0., 1., 0., 0., 0., 0., 0., 0., 0., 0., 0., 0., 0., 0., 0.,\n",
      "        0., 0., 0., 0., 0., 0., 0., 0., 0., 0., 0., 0., 0., 0., 0., 0., 0., 0.,\n",
      "        0., 0., 0., 0., 0., 0., 0., 0., 0., 0., 0., 0., 0., 0., 0., 0., 0., 0.,\n",
      "        0., 0., 0., 0., 0., 0., 0., 0., 0., 0., 0., 0., 0., 0., 0., 0., 0., 0.,\n",
      "        0., 0., 0., 0., 0., 0., 0., 0., 0., 0., 0., 0., 0., 0., 0., 0., 0., 0.,\n",
      "        0., 0., 0., 0., 0., 0., 0., 0., 0., 0., 0., 0., 0., 0., 0., 0., 0., 0.,\n",
      "        1., 0., 0., 0., 0., 0., 0., 0., 0., 0., 0., 0., 0., 0., 0., 0., 0., 0.,\n",
      "        0., 0., 0., 0., 0., 0., 0., 0., 0., 0., 0., 0., 0., 0., 0., 0., 0., 0.,\n",
      "        0., 0., 0., 0., 0., 0., 0., 0., 0., 0., 0., 0., 0., 0., 0., 0., 0., 0.,\n",
      "        0., 0., 0., 0., 0., 0., 0., 0., 0., 0., 0., 0., 0., 0., 0., 0., 0., 0.,\n",
      "        0., 0., 0., 0., 0., 0., 0., 0., 0., 0., 0., 0., 0., 0., 0., 0., 0., 0.,\n",
      "        0., 0., 0., 0., 0., 0., 0., 0., 0., 0., 0., 0., 0., 0., 0., 0., 0., 0.,\n",
      "        0., 0., 0., 0., 0., 0., 0., 0., 0., 0., 0., 0., 0., 0., 0., 0., 0., 0.,\n",
      "        0., 0., 0., 0., 0., 0., 0., 0., 0., 1., 0., 0., 0., 0., 0., 0., 0., 0.,\n",
      "        0., 0., 0., 0., 0., 0., 0., 0., 0., 0., 0., 0., 0., 0., 0., 0., 0., 0.,\n",
      "        0., 0., 0., 0., 0., 0., 0., 0., 0., 0., 0., 0., 0., 0., 0., 0., 0., 0.,\n",
      "        0., 0., 0., 0., 0., 0., 0., 0., 0., 0., 0., 0., 0., 0., 0., 0., 0., 0.,\n",
      "        0., 0., 0., 0., 0., 0., 0., 0., 0., 0., 0., 0., 0., 0., 0., 0., 0., 0.,\n",
      "        0., 0., 0., 0., 0., 0., 0., 0., 0., 0., 0., 0., 0., 0., 0., 0., 0., 0.,\n",
      "        0., 0., 0., 0., 0., 0., 0., 0., 0., 0., 0., 0., 0., 0., 0., 0., 0., 0.,\n",
      "        0., 0., 0., 0., 0., 0., 0., 0., 0., 0., 0., 0., 0., 0., 0., 0., 0., 0.,\n",
      "        0., 0., 0., 0., 0., 0., 0., 0., 0., 0., 0., 0., 0., 0., 0., 0., 0., 0.,\n",
      "        0., 0., 0., 0., 0., 0., 0., 0., 0., 0., 0., 0., 0., 0., 0., 0., 0., 0.,\n",
      "        0., 0., 0., 0., 0., 0., 0.])\n",
      "torch.Size([1, 300, 619])\n",
      "torch.Size([1, 300])\n"
     ]
    }
   ],
   "source": [
    "from torch.utils.data import DataLoader\n",
    "\n",
    "loader = DataLoader(train_dataset, batch_size=1, collate_fn=collate_fn, drop_last=True)\n",
    "loader_iter = iter(loader)\n",
    "x, masks, y = next(loader_iter)\n",
    "\n",
    "\n",
    "print(x.shape)\n",
    "print(x[0][3])\n",
    "print(masks.shape)\n",
    "print(y.shape)"
   ]
  },
  {
   "cell_type": "code",
   "execution_count": null,
   "id": "7199c43b",
   "metadata": {},
   "outputs": [],
   "source": []
  },
  {
   "cell_type": "code",
   "execution_count": null,
   "id": "5725ae68",
   "metadata": {},
   "outputs": [],
   "source": [
    "from torch.utils.data import DataLoader\n",
    "\n",
    "def load_data(train_dataset, val_dataset, collate_fn):\n",
    "    \n",
    "    '''\n",
    "    TODO: Implement this function to return the data loader for  train and validation dataset. \n",
    "    Set batchsize to 32. Set `shuffle=True` only for train dataloader.\n",
    "    \n",
    "    Arguments:\n",
    "        train dataset: train dataset of type `CustomDataset`\n",
    "        val dataset: validation dataset of type `CustomDataset`\n",
    "        collate_fn: collate function\n",
    "        \n",
    "    Outputs:\n",
    "        train_loader, val_loader: train and validation dataloaders\n",
    "    \n",
    "    Note that you need to pass the collate function to the data loader `collate_fn()`.\n",
    "    '''\n",
    "    \n",
    "    batch_size = 1\n",
    "    # your code here\n",
    "    #raise NotImplementedError\n",
    "    train_loader = DataLoader(dataset = train_dataset, batch_size = batch_size,shuffle=True,collate_fn=collate_fn)\n",
    "    val_loader = DataLoader(dataset = val_dataset,batch_size = batch_size,shuffle=False,collate_fn=collate_fn, drop_last = True )\n",
    "   \n",
    "    \n",
    "   \n",
    "    return train_loader, val_loader"
   ]
  },
  {
   "cell_type": "code",
   "execution_count": null,
   "id": "5550bf94",
   "metadata": {},
   "outputs": [],
   "source": [
    "train_loader, val_loader = load_data(train_dataset,val_dataset,collate_fn )\n",
    "val_loader_iter = iter(val_loader)\n",
    "x, masks, y = next(val_loader_iter)"
   ]
  },
  {
   "cell_type": "code",
   "execution_count": null,
   "id": "b3e5e52c",
   "metadata": {},
   "outputs": [],
   "source": [
    "print(x.shape)\n",
    "print(masks.shape)\n",
    "print(y.shape)"
   ]
  },
  {
   "cell_type": "code",
   "execution_count": null,
   "id": "e10875ea",
   "metadata": {},
   "outputs": [],
   "source": [
    "def sum_embeddings_with_mask(x, masks):\n",
    "    \"\"\"\n",
    "    Mask select the embeddings for true visits (not padding visits) and then sum the embeddings for each visit up.\n",
    "\n",
    "    Arguments:\n",
    "        x: the embeddings of diagnosis sequence of shape (batch_size, # visits, # diagnosis codes, embedding_dim)\n",
    "        masks: the padding masks of shape (batch_size, # visits, # diagnosis codes)\n",
    "\n",
    "    Outputs:\n",
    "        sum_embeddings: the sum of embeddings of shape (batch_size, # visits, embedding_dim)\n",
    "    \"\"\"\n",
    "    #print(\"sum_embeddings_with_mask x.shape\",x.shape)\n",
    "    #print(\"sum_embeddings_with_mask masks.shape\",masks.shape)\n",
    "    #print(\"unsqueezed mask looks like\", masks.unsqueeze(-1).shape)\n",
    "    x = x * masks.unsqueeze(-1)\n",
    "    #print(\"x.shape after masking\", x.shape)\n",
    "    x = torch.sum(x, dim = -2)\n",
    "    #print(\"x after torch.sum\", x.shape)\n",
    "    return x"
   ]
  },
  {
   "cell_type": "markdown",
   "id": "48b4d3c0",
   "metadata": {},
   "source": [
    "## GRU MODEL"
   ]
  },
  {
   "cell_type": "markdown",
   "id": "57fd5a49",
   "metadata": {},
   "source": [
    "# Building  GRU to get local context\n",
    "GRU takes input is visits and gives out hidden state hn, which we need as an input to our logistic regression\n",
    "\n",
    "\n",
    "Input :  visit dimensions (300 *619)\n",
    "output : hx , dimensions ( 300 * 100)"
   ]
  },
  {
   "cell_type": "code",
   "execution_count": 1037,
   "id": "beaac499",
   "metadata": {},
   "outputs": [],
   "source": [
    "class GRU(nn.Module):\n",
    "    def __init__(self, num_codes, embedding_dim, num_layers, output_size):\n",
    "        super(GRU, self).__init__()\n",
    "        self.num_layers = num_layers\n",
    "        self.hidden_size = embedding_dim\n",
    "        self.embedding = nn.Embedding(num_codes, embedding_dim)\n",
    "        self.sig = nn.Linear(100,y.shape[1])\n",
    "\n",
    "        self.gru  = nn.GRU(embedding_dim,embedding_dim, batch_first=True)\n",
    "        \n",
    "    def forward(self, x, masks):\n",
    "        h0 =  torch.zeros(self.num_layers, x.size(0), self.hidden_size, dtype = torch.float)\n",
    "        #print(x.shape)\n",
    "        x = x.type(torch.LongTensor)\n",
    "        x =  self.embedding(x)\n",
    "        x = sum_embeddings_with_mask(x,masks)\n",
    "        ht,_ = self.gru(x,h0)\n",
    "        #Out : #catch_size, #seq_len, #hidden_size : N, num_of_visits, embed_dim\n",
    "        \n",
    "        #needed  out : N,embed_dim\n",
    "        ht = ht[:,-1,:]\n",
    "        #print(ht.shape)\n",
    "        return ht\n",
    "    "
   ]
  },
  {
   "cell_type": "code",
   "execution_count": 1038,
   "id": "070b44a0",
   "metadata": {
    "scrolled": true
   },
   "outputs": [
    {
     "name": "stdout",
     "output_type": "stream",
     "text": [
      "tensor([[-0.0667,  0.1270, -0.0573,  ..., -0.0619,  0.0554,  0.0395],\n",
      "        [-0.0667,  0.1270, -0.0573,  ..., -0.0619,  0.0554,  0.0395],\n",
      "        [-0.0667,  0.1270, -0.0573,  ..., -0.0619,  0.0554,  0.0395],\n",
      "        ...,\n",
      "        [-0.0667,  0.1270, -0.0573,  ..., -0.0619,  0.0554,  0.0395],\n",
      "        [-0.0667,  0.1270, -0.0573,  ..., -0.0619,  0.0554,  0.0395],\n",
      "        [-0.0667,  0.1270, -0.0573,  ..., -0.0619,  0.0554,  0.0395]],\n",
      "       grad_fn=<SliceBackward0>)\n"
     ]
    }
   ],
   "source": [
    "gru_model = GRU(global_config.input_dim, 100,1,200)\n",
    "out = gru_model(x,masks )\n",
    "print(out)\n",
    "gru_optimizer = torch.optim.Adam(gru_model.parameters(), lr=0.00002)\n",
    "gru_lossFn = nn.BCELoss()\n"
   ]
  },
  {
   "cell_type": "markdown",
   "id": "22309489",
   "metadata": {},
   "source": [
    "# Loss calculation for GRU Model\n"
   ]
  },
  {
   "cell_type": "code",
   "execution_count": 1039,
   "id": "a75b6da1",
   "metadata": {},
   "outputs": [],
   "source": [
    "gru_loss_fn = nn.BCELoss()"
   ]
  },
  {
   "cell_type": "code",
   "execution_count": 1040,
   "id": "16d75993",
   "metadata": {},
   "outputs": [],
   "source": [
    "def get_GRU_loss(x_hat,  y ):\n",
    "    y_hat = torch.sigmoid(x_hat)\n",
    "    loss = gru_loss_fn(y_hat,y)\n",
    "    return loss\n",
    "    "
   ]
  },
  {
   "cell_type": "markdown",
   "id": "9f03346d",
   "metadata": {},
   "source": [
    "# Train GRU Model"
   ]
  },
  {
   "cell_type": "code",
   "execution_count": 1041,
   "id": "7d409644",
   "metadata": {},
   "outputs": [
    {
     "ename": "KeyboardInterrupt",
     "evalue": "",
     "output_type": "error",
     "traceback": [
      "\u001b[0;31m---------------------------------------------------------------------------\u001b[0m",
      "\u001b[0;31mKeyboardInterrupt\u001b[0m                         Traceback (most recent call last)",
      "\u001b[0;32m/var/folders/k6/x52hhfys3bzf1rmrzq9wqznh0000gn/T/ipykernel_81676/3989866019.py\u001b[0m in \u001b[0;36m<module>\u001b[0;34m\u001b[0m\n\u001b[1;32m     20\u001b[0m            \u001b[0;31m# print(\"mask looks like\", mask)\u001b[0m\u001b[0;34m\u001b[0m\u001b[0;34m\u001b[0m\u001b[0m\n\u001b[1;32m     21\u001b[0m            \u001b[0;31m# print(\"y looks like: \\n\",y.shape,\"\\n \", y)\u001b[0m\u001b[0;34m\u001b[0m\u001b[0;34m\u001b[0m\u001b[0m\n\u001b[0;32m---> 22\u001b[0;31m \u001b[0mgru_fit\u001b[0m\u001b[0;34m(\u001b[0m\u001b[0mgru_model\u001b[0m\u001b[0;34m,\u001b[0m\u001b[0mtrain_loader\u001b[0m\u001b[0;34m,\u001b[0m\u001b[0mval_loader\u001b[0m\u001b[0;34m,\u001b[0m\u001b[0;36m5\u001b[0m\u001b[0;34m)\u001b[0m\u001b[0;34m\u001b[0m\u001b[0;34m\u001b[0m\u001b[0m\n\u001b[0m",
      "\u001b[0;32m/var/folders/k6/x52hhfys3bzf1rmrzq9wqznh0000gn/T/ipykernel_81676/3989866019.py\u001b[0m in \u001b[0;36mgru_fit\u001b[0;34m(model, train_loader, val_loader, n_epochs)\u001b[0m\n\u001b[1;32m      5\u001b[0m         \u001b[0;32mfor\u001b[0m \u001b[0mx\u001b[0m\u001b[0;34m,\u001b[0m \u001b[0mmasks\u001b[0m\u001b[0;34m,\u001b[0m \u001b[0my\u001b[0m \u001b[0;32min\u001b[0m \u001b[0mtrain_loader\u001b[0m\u001b[0;34m:\u001b[0m\u001b[0;34m\u001b[0m\u001b[0;34m\u001b[0m\u001b[0m\n\u001b[1;32m      6\u001b[0m             \u001b[0mgru_optimizer\u001b[0m\u001b[0;34m.\u001b[0m\u001b[0mzero_grad\u001b[0m\u001b[0;34m(\u001b[0m\u001b[0;34m)\u001b[0m\u001b[0;34m\u001b[0m\u001b[0;34m\u001b[0m\u001b[0m\n\u001b[0;32m----> 7\u001b[0;31m             \u001b[0mhx\u001b[0m \u001b[0;34m=\u001b[0m \u001b[0mmodel\u001b[0m\u001b[0;34m(\u001b[0m\u001b[0mx\u001b[0m\u001b[0;34m,\u001b[0m\u001b[0mmasks\u001b[0m\u001b[0;34m)\u001b[0m\u001b[0;34m\u001b[0m\u001b[0;34m\u001b[0m\u001b[0m\n\u001b[0m\u001b[1;32m      8\u001b[0m \u001b[0;34m\u001b[0m\u001b[0m\n\u001b[1;32m      9\u001b[0m             \u001b[0mmask\u001b[0m \u001b[0;34m=\u001b[0m  \u001b[0mnp\u001b[0m\u001b[0;34m.\u001b[0m\u001b[0mwhere\u001b[0m\u001b[0;34m(\u001b[0m\u001b[0mtorch\u001b[0m\u001b[0;34m.\u001b[0m\u001b[0msum\u001b[0m\u001b[0;34m(\u001b[0m\u001b[0my\u001b[0m\u001b[0;34m,\u001b[0m\u001b[0mdim\u001b[0m\u001b[0;34m=\u001b[0m\u001b[0;36m1\u001b[0m\u001b[0;34m)\u001b[0m\u001b[0;34m>\u001b[0m\u001b[0;36m0\u001b[0m \u001b[0;34m)\u001b[0m\u001b[0;34m\u001b[0m\u001b[0;34m\u001b[0m\u001b[0m\n",
      "\u001b[0;32m~/opt/anaconda3/lib/python3.9/site-packages/torch/nn/modules/module.py\u001b[0m in \u001b[0;36m_call_impl\u001b[0;34m(self, *input, **kwargs)\u001b[0m\n\u001b[1;32m   1192\u001b[0m         if not (self._backward_hooks or self._forward_hooks or self._forward_pre_hooks or _global_backward_hooks\n\u001b[1;32m   1193\u001b[0m                 or _global_forward_hooks or _global_forward_pre_hooks):\n\u001b[0;32m-> 1194\u001b[0;31m             \u001b[0;32mreturn\u001b[0m \u001b[0mforward_call\u001b[0m\u001b[0;34m(\u001b[0m\u001b[0;34m*\u001b[0m\u001b[0minput\u001b[0m\u001b[0;34m,\u001b[0m \u001b[0;34m**\u001b[0m\u001b[0mkwargs\u001b[0m\u001b[0;34m)\u001b[0m\u001b[0;34m\u001b[0m\u001b[0;34m\u001b[0m\u001b[0m\n\u001b[0m\u001b[1;32m   1195\u001b[0m         \u001b[0;31m# Do not call functions when jit is used\u001b[0m\u001b[0;34m\u001b[0m\u001b[0;34m\u001b[0m\u001b[0m\n\u001b[1;32m   1196\u001b[0m         \u001b[0mfull_backward_hooks\u001b[0m\u001b[0;34m,\u001b[0m \u001b[0mnon_full_backward_hooks\u001b[0m \u001b[0;34m=\u001b[0m \u001b[0;34m[\u001b[0m\u001b[0;34m]\u001b[0m\u001b[0;34m,\u001b[0m \u001b[0;34m[\u001b[0m\u001b[0;34m]\u001b[0m\u001b[0;34m\u001b[0m\u001b[0;34m\u001b[0m\u001b[0m\n",
      "\u001b[0;32m/var/folders/k6/x52hhfys3bzf1rmrzq9wqznh0000gn/T/ipykernel_81676/296405484.py\u001b[0m in \u001b[0;36mforward\u001b[0;34m(self, x, masks)\u001b[0m\n\u001b[1;32m     14\u001b[0m         \u001b[0mx\u001b[0m \u001b[0;34m=\u001b[0m \u001b[0mx\u001b[0m\u001b[0;34m.\u001b[0m\u001b[0mtype\u001b[0m\u001b[0;34m(\u001b[0m\u001b[0mtorch\u001b[0m\u001b[0;34m.\u001b[0m\u001b[0mLongTensor\u001b[0m\u001b[0;34m)\u001b[0m\u001b[0;34m\u001b[0m\u001b[0;34m\u001b[0m\u001b[0m\n\u001b[1;32m     15\u001b[0m         \u001b[0mx\u001b[0m \u001b[0;34m=\u001b[0m  \u001b[0mself\u001b[0m\u001b[0;34m.\u001b[0m\u001b[0membedding\u001b[0m\u001b[0;34m(\u001b[0m\u001b[0mx\u001b[0m\u001b[0;34m)\u001b[0m\u001b[0;34m\u001b[0m\u001b[0;34m\u001b[0m\u001b[0m\n\u001b[0;32m---> 16\u001b[0;31m         \u001b[0mx\u001b[0m \u001b[0;34m=\u001b[0m \u001b[0msum_embeddings_with_mask\u001b[0m\u001b[0;34m(\u001b[0m\u001b[0mx\u001b[0m\u001b[0;34m,\u001b[0m\u001b[0mmasks\u001b[0m\u001b[0;34m)\u001b[0m\u001b[0;34m\u001b[0m\u001b[0;34m\u001b[0m\u001b[0m\n\u001b[0m\u001b[1;32m     17\u001b[0m         \u001b[0mht\u001b[0m\u001b[0;34m,\u001b[0m\u001b[0m_\u001b[0m \u001b[0;34m=\u001b[0m \u001b[0mself\u001b[0m\u001b[0;34m.\u001b[0m\u001b[0mgru\u001b[0m\u001b[0;34m(\u001b[0m\u001b[0mx\u001b[0m\u001b[0;34m,\u001b[0m\u001b[0mh0\u001b[0m\u001b[0;34m)\u001b[0m\u001b[0;34m\u001b[0m\u001b[0;34m\u001b[0m\u001b[0m\n\u001b[1;32m     18\u001b[0m         \u001b[0;31m#Out : #catch_size, #seq_len, #hidden_size : N, num_of_visits, embed_dim\u001b[0m\u001b[0;34m\u001b[0m\u001b[0;34m\u001b[0m\u001b[0m\n",
      "\u001b[0;32m/var/folders/k6/x52hhfys3bzf1rmrzq9wqznh0000gn/T/ipykernel_81676/2017914005.py\u001b[0m in \u001b[0;36msum_embeddings_with_mask\u001b[0;34m(x, masks)\u001b[0m\n\u001b[1;32m     13\u001b[0m     \u001b[0;31m#print(\"sum_embeddings_with_mask masks.shape\",masks.shape)\u001b[0m\u001b[0;34m\u001b[0m\u001b[0;34m\u001b[0m\u001b[0m\n\u001b[1;32m     14\u001b[0m     \u001b[0;31m#print(\"unsqueezed mask looks like\", masks.unsqueeze(-1).shape)\u001b[0m\u001b[0;34m\u001b[0m\u001b[0;34m\u001b[0m\u001b[0m\n\u001b[0;32m---> 15\u001b[0;31m     \u001b[0mx\u001b[0m \u001b[0;34m=\u001b[0m \u001b[0mx\u001b[0m \u001b[0;34m*\u001b[0m \u001b[0mmasks\u001b[0m\u001b[0;34m.\u001b[0m\u001b[0munsqueeze\u001b[0m\u001b[0;34m(\u001b[0m\u001b[0;34m-\u001b[0m\u001b[0;36m1\u001b[0m\u001b[0;34m)\u001b[0m\u001b[0;34m\u001b[0m\u001b[0;34m\u001b[0m\u001b[0m\n\u001b[0m\u001b[1;32m     16\u001b[0m     \u001b[0;31m#print(\"x.shape after masking\", x.shape)\u001b[0m\u001b[0;34m\u001b[0m\u001b[0;34m\u001b[0m\u001b[0m\n\u001b[1;32m     17\u001b[0m     \u001b[0mx\u001b[0m \u001b[0;34m=\u001b[0m \u001b[0mtorch\u001b[0m\u001b[0;34m.\u001b[0m\u001b[0msum\u001b[0m\u001b[0;34m(\u001b[0m\u001b[0mx\u001b[0m\u001b[0;34m,\u001b[0m \u001b[0mdim\u001b[0m \u001b[0;34m=\u001b[0m \u001b[0;34m-\u001b[0m\u001b[0;36m2\u001b[0m\u001b[0;34m)\u001b[0m\u001b[0;34m\u001b[0m\u001b[0;34m\u001b[0m\u001b[0m\n",
      "\u001b[0;31mKeyboardInterrupt\u001b[0m: "
     ]
    }
   ],
   "source": [
    "def gru_fit(model, train_loader, val_loader,n_epochs):\n",
    "    for epoch in range(n_epochs):\n",
    "        model.train()\n",
    "        train_loss = 0.0\n",
    "        for x, masks, y in train_loader:\n",
    "            gru_optimizer.zero_grad()\n",
    "            hx = model(x,masks)\n",
    "            \n",
    "            mask =  np.where(torch.sum(y,dim=1)>0 )\n",
    "            y[mask]=1\n",
    "            #print(\"Y shape\", y.shape)\n",
    "            loss = get_GRU_loss(hx,y)\n",
    "            train_loss += loss.item()\n",
    "            loss.backward()\n",
    "            optimizer.step()\n",
    "            \n",
    "        train_loss = train_loss / len(train_loader)  \n",
    "        print('Epoch: {} \\t Training Loss: {:.6f}'.format(epoch+1, train_loss))\n",
    "\n",
    "           # print(\"mask looks like\", mask)\n",
    "           # print(\"y looks like: \\n\",y.shape,\"\\n \", y)\n",
    "gru_fit(gru_model,train_loader,val_loader,5)           "
   ]
  },
  {
   "cell_type": "markdown",
   "id": "2bf1c8f4",
   "metadata": {},
   "source": [
    "# Recognition Network Model"
   ]
  },
  {
   "cell_type": "markdown",
   "id": "77fbbd96",
   "metadata": {},
   "source": [
    "This network takes the patient data as  input. \n",
    "Patient data x has dimensions Batchsize(32) * 300 (Visit size ) * 619 (embeding dim)\n",
    "\n",
    "\n"
   ]
  },
  {
   "cell_type": "code",
   "execution_count": null,
   "id": "4db2cd0d",
   "metadata": {},
   "outputs": [],
   "source": [
    "\n",
    "import torch\n",
    "import torch.nn as nn\n",
    "import torch.nn.functional as F\n",
    "import torchvision\n",
    "from torchvision import transforms\n",
    "from torch.utils.data import DataLoader  "
   ]
  },
  {
   "cell_type": "code",
   "execution_count": null,
   "id": "7182e33b",
   "metadata": {},
   "outputs": [],
   "source": [
    "\n",
    "class REC_NW(nn.Module):\n",
    "    def __init__(self, input_dim, z_dim = 50, h_dim=100):\n",
    "        super().__init__()\n",
    "        # encoder\n",
    "        self.L1 = nn.Linear(in_features = input_dim, out_features = h_dim, bias = True)\n",
    "        self.L2 = nn.Linear(h_dim, h_dim)\n",
    "        \n",
    "        \n",
    "\n",
    "        # one for mu and one for stds, note how we only output\n",
    "        # diagonal values of covariance matrix. Here we assume\n",
    "        # the pixels are conditionally independent \n",
    "        self.hid_2mu = nn.Linear(h_dim, z_dim)\n",
    "        self.hid_2sigma = nn.Linear(h_dim, z_dim)#(log_var)\n",
    "\n",
    "        # decoder\n",
    "        self.z_2hid = nn.Linear(z_dim, h_dim)\n",
    "        self.hid_2img = nn.Linear(h_dim, input_dim)\n",
    "        self.log_scale = nn.Parameter(torch.Tensor([0.0]))\n",
    "        return\n",
    "\n",
    "    def encode(self, x):\n",
    "        x = x.type(torch.FloatTensor)\n",
    "        x = x.squeeze()\n",
    "    \n",
    "        h = F.relu(self.L1(x))\n",
    "        h = F.relu(self.L2(h))\n",
    "        return h\n",
    "\n",
    "    def decode(self, z):\n",
    "        h = F.relu(self.z_2hid(z))\n",
    "        x_hat = torch.sigmoid(self.hid_2img(h))\n",
    "        return x_hat\n",
    "               \n",
    "                   \n",
    "    def reparametarize(self,mu, log_var):\n",
    "        std = torch.exp(0.5*log_var)\n",
    "        eps = torch.randn_like(std)\n",
    "        sample = mu + (eps * std)\n",
    "        return sample\n",
    "    \n",
    "    def forward(self, x):\n",
    "        x = x.type(torch.FloatTensor)\n",
    "        z = self.encode(x)\n",
    "        mu = self.hid_2mu(z)\n",
    "        log_var = self.hid_2sigma(z)\n",
    "        #print(\"z in latent space:\", z.shape)\n",
    "        z = self.reparametarize(mu,log_var)\n",
    "     \n",
    "        #print(\"Rec_net Fwd: z looks like\", z.shape)\n",
    "        reconstruct = self.decode(z)\n",
    "        \n",
    "   \n",
    "        return reconstruct,mu,log_var,z"
   ]
  },
  {
   "cell_type": "markdown",
   "id": "ecfe0b93",
   "metadata": {},
   "source": [
    "# Loss Calculation for REC_NW"
   ]
  },
  {
   "cell_type": "code",
   "execution_count": null,
   "id": "139e1b1f",
   "metadata": {},
   "outputs": [],
   "source": [
    "loss_fn = nn.BCELoss()"
   ]
  },
  {
   "cell_type": "code",
   "execution_count": null,
   "id": "ee351daa",
   "metadata": {},
   "outputs": [],
   "source": [
    "def get_REC_NW_loss(z,x,mu,log_var):\n",
    "    bce_loss = loss_fn(z, x)\n",
    "    loss = bce_loss + KLDivergence( mu, log_var)\n",
    "    return loss"
   ]
  },
  {
   "cell_type": "code",
   "execution_count": null,
   "id": "dcbd585a",
   "metadata": {},
   "outputs": [],
   "source": [
    "def KLDivergence( mu, logvar):\n",
    "        KLD = -0.5 * torch.sum(1 + logvar - mu.pow(2) - logvar.exp())\n",
    "        return KLD"
   ]
  },
  {
   "cell_type": "code",
   "execution_count": null,
   "id": "56d6bb06",
   "metadata": {},
   "outputs": [],
   "source": [
    "#device = torch.device('cuda' if torch.cuda.is_available() else 'cpu')\n",
    "INPUT_DIM = 619\n",
    "Z_DIM = 50\n",
    "H_DIM = 100\n",
    "NUM_EPOCHS = 10\n",
    "BATCH_SIZE = 32\n",
    "LR_RATE = 3e-4\n",
    "OUT_DIM = 1"
   ]
  },
  {
   "cell_type": "markdown",
   "id": "7897f0c9",
   "metadata": {},
   "source": [
    "# Training REC_NW model"
   ]
  },
  {
   "cell_type": "code",
   "execution_count": null,
   "id": "c93f8d61",
   "metadata": {},
   "outputs": [],
   "source": [
    "model = REC_NW(INPUT_DIM, Z_DIM,H_DIM)\n",
    "optimizer = torch.optim.Adam(model.parameters(), lr=0.00002)\n",
    "loss_fn = nn.BCELoss()"
   ]
  },
  {
   "cell_type": "code",
   "execution_count": 1008,
   "id": "47eab13a",
   "metadata": {},
   "outputs": [],
   "source": [
    "def REC_NW_fit(model, dataloader):\n",
    "    model.train()\n",
    "    total_loss = 0.0\n",
    "    running_loss =0.0\n",
    "    for x, masks, y in dataloader:\n",
    "        \n",
    "        #x = x.view(-1, INPUT_DIM)\n",
    "        x = torch.nn.functional.normalize(x, dim=2)\n",
    "        #for patient in x:\n",
    "        optimizer.zero_grad()\n",
    "            #patient =torch.sum(patient,dim =0)\n",
    "            #print(patient.shape)\n",
    "        x_hat, mu, logvar ,z= model(x)\n",
    "            \n",
    "        bce_loss = loss_fn(x_hat, x)\n",
    "        loss = bce_loss + KLDivergence( mu, logvar)\n",
    "        total_loss += loss.item()\n",
    "        loss.backward()\n",
    "        optimizer.step()\n",
    "        \n",
    "    train_loss = total_loss/len(train_loader)\n",
    "    print(f\"Train Loss: {train_loss:.4f}\")\n",
    "    return train_loss\n",
    "        "
   ]
  },
  {
   "cell_type": "code",
   "execution_count": 1009,
   "id": "dc86d440",
   "metadata": {},
   "outputs": [
    {
     "name": "stdout",
     "output_type": "stream",
     "text": [
      "Epoch 1 of 50\n",
      "Train Loss: 1167.4131\n",
      "Train Loss: 1167.4131\n",
      "Epoch 2 of 50\n",
      "Train Loss: 951.8227\n",
      "Train Loss: 951.8227\n",
      "Epoch 3 of 50\n"
     ]
    },
    {
     "ename": "KeyboardInterrupt",
     "evalue": "",
     "output_type": "error",
     "traceback": [
      "\u001b[0;31m---------------------------------------------------------------------------\u001b[0m",
      "\u001b[0;31mKeyboardInterrupt\u001b[0m                         Traceback (most recent call last)",
      "\u001b[0;32m/var/folders/k6/x52hhfys3bzf1rmrzq9wqznh0000gn/T/ipykernel_81676/4072234234.py\u001b[0m in \u001b[0;36m<module>\u001b[0;34m\u001b[0m\n\u001b[1;32m      4\u001b[0m \u001b[0;32mfor\u001b[0m \u001b[0mepoch\u001b[0m \u001b[0;32min\u001b[0m \u001b[0mrange\u001b[0m\u001b[0;34m(\u001b[0m\u001b[0mepochs\u001b[0m\u001b[0;34m)\u001b[0m\u001b[0;34m:\u001b[0m\u001b[0;34m\u001b[0m\u001b[0;34m\u001b[0m\u001b[0m\n\u001b[1;32m      5\u001b[0m     \u001b[0mprint\u001b[0m\u001b[0;34m(\u001b[0m\u001b[0;34mf\"Epoch {epoch+1} of {epochs}\"\u001b[0m\u001b[0;34m)\u001b[0m\u001b[0;34m\u001b[0m\u001b[0;34m\u001b[0m\u001b[0m\n\u001b[0;32m----> 6\u001b[0;31m     \u001b[0mtrain_epoch_loss\u001b[0m \u001b[0;34m=\u001b[0m \u001b[0mREC_NW_fit\u001b[0m\u001b[0;34m(\u001b[0m\u001b[0mmodel\u001b[0m\u001b[0;34m,\u001b[0m \u001b[0mtrain_loader\u001b[0m\u001b[0;34m)\u001b[0m\u001b[0;34m\u001b[0m\u001b[0;34m\u001b[0m\u001b[0m\n\u001b[0m\u001b[1;32m      7\u001b[0m     \u001b[0;31m#val_epoch_loss = validate(model, val_loader)\u001b[0m\u001b[0;34m\u001b[0m\u001b[0;34m\u001b[0m\u001b[0m\n\u001b[1;32m      8\u001b[0m     \u001b[0mtrain_loss\u001b[0m\u001b[0;34m.\u001b[0m\u001b[0mappend\u001b[0m\u001b[0;34m(\u001b[0m\u001b[0mtrain_epoch_loss\u001b[0m\u001b[0;34m)\u001b[0m\u001b[0;34m\u001b[0m\u001b[0;34m\u001b[0m\u001b[0m\n",
      "\u001b[0;32m/var/folders/k6/x52hhfys3bzf1rmrzq9wqznh0000gn/T/ipykernel_81676/3918599145.py\u001b[0m in \u001b[0;36mREC_NW_fit\u001b[0;34m(model, dataloader)\u001b[0m\n\u001b[1;32m      3\u001b[0m     \u001b[0mtotal_loss\u001b[0m \u001b[0;34m=\u001b[0m \u001b[0;36m0.0\u001b[0m\u001b[0;34m\u001b[0m\u001b[0;34m\u001b[0m\u001b[0m\n\u001b[1;32m      4\u001b[0m     \u001b[0mrunning_loss\u001b[0m \u001b[0;34m=\u001b[0m\u001b[0;36m0.0\u001b[0m\u001b[0;34m\u001b[0m\u001b[0;34m\u001b[0m\u001b[0m\n\u001b[0;32m----> 5\u001b[0;31m     \u001b[0;32mfor\u001b[0m \u001b[0mx\u001b[0m\u001b[0;34m,\u001b[0m \u001b[0mmasks\u001b[0m\u001b[0;34m,\u001b[0m \u001b[0my\u001b[0m \u001b[0;32min\u001b[0m \u001b[0mdataloader\u001b[0m\u001b[0;34m:\u001b[0m\u001b[0;34m\u001b[0m\u001b[0;34m\u001b[0m\u001b[0m\n\u001b[0m\u001b[1;32m      6\u001b[0m \u001b[0;34m\u001b[0m\u001b[0m\n\u001b[1;32m      7\u001b[0m         \u001b[0;31m#x = x.view(-1, INPUT_DIM)\u001b[0m\u001b[0;34m\u001b[0m\u001b[0;34m\u001b[0m\u001b[0m\n",
      "\u001b[0;32m~/opt/anaconda3/lib/python3.9/site-packages/torch/utils/data/dataloader.py\u001b[0m in \u001b[0;36m__next__\u001b[0;34m(self)\u001b[0m\n\u001b[1;32m    626\u001b[0m                 \u001b[0;31m# TODO(https://github.com/pytorch/pytorch/issues/76750)\u001b[0m\u001b[0;34m\u001b[0m\u001b[0;34m\u001b[0m\u001b[0m\n\u001b[1;32m    627\u001b[0m                 \u001b[0mself\u001b[0m\u001b[0;34m.\u001b[0m\u001b[0m_reset\u001b[0m\u001b[0;34m(\u001b[0m\u001b[0;34m)\u001b[0m  \u001b[0;31m# type: ignore[call-arg]\u001b[0m\u001b[0;34m\u001b[0m\u001b[0;34m\u001b[0m\u001b[0m\n\u001b[0;32m--> 628\u001b[0;31m             \u001b[0mdata\u001b[0m \u001b[0;34m=\u001b[0m \u001b[0mself\u001b[0m\u001b[0;34m.\u001b[0m\u001b[0m_next_data\u001b[0m\u001b[0;34m(\u001b[0m\u001b[0;34m)\u001b[0m\u001b[0;34m\u001b[0m\u001b[0;34m\u001b[0m\u001b[0m\n\u001b[0m\u001b[1;32m    629\u001b[0m             \u001b[0mself\u001b[0m\u001b[0;34m.\u001b[0m\u001b[0m_num_yielded\u001b[0m \u001b[0;34m+=\u001b[0m \u001b[0;36m1\u001b[0m\u001b[0;34m\u001b[0m\u001b[0;34m\u001b[0m\u001b[0m\n\u001b[1;32m    630\u001b[0m             \u001b[0;32mif\u001b[0m \u001b[0mself\u001b[0m\u001b[0;34m.\u001b[0m\u001b[0m_dataset_kind\u001b[0m \u001b[0;34m==\u001b[0m \u001b[0m_DatasetKind\u001b[0m\u001b[0;34m.\u001b[0m\u001b[0mIterable\u001b[0m \u001b[0;32mand\u001b[0m\u001b[0;31m \u001b[0m\u001b[0;31m\\\u001b[0m\u001b[0;34m\u001b[0m\u001b[0;34m\u001b[0m\u001b[0m\n",
      "\u001b[0;32m~/opt/anaconda3/lib/python3.9/site-packages/torch/utils/data/dataloader.py\u001b[0m in \u001b[0;36m_next_data\u001b[0;34m(self)\u001b[0m\n\u001b[1;32m    669\u001b[0m     \u001b[0;32mdef\u001b[0m \u001b[0m_next_data\u001b[0m\u001b[0;34m(\u001b[0m\u001b[0mself\u001b[0m\u001b[0;34m)\u001b[0m\u001b[0;34m:\u001b[0m\u001b[0;34m\u001b[0m\u001b[0;34m\u001b[0m\u001b[0m\n\u001b[1;32m    670\u001b[0m         \u001b[0mindex\u001b[0m \u001b[0;34m=\u001b[0m \u001b[0mself\u001b[0m\u001b[0;34m.\u001b[0m\u001b[0m_next_index\u001b[0m\u001b[0;34m(\u001b[0m\u001b[0;34m)\u001b[0m  \u001b[0;31m# may raise StopIteration\u001b[0m\u001b[0;34m\u001b[0m\u001b[0;34m\u001b[0m\u001b[0m\n\u001b[0;32m--> 671\u001b[0;31m         \u001b[0mdata\u001b[0m \u001b[0;34m=\u001b[0m \u001b[0mself\u001b[0m\u001b[0;34m.\u001b[0m\u001b[0m_dataset_fetcher\u001b[0m\u001b[0;34m.\u001b[0m\u001b[0mfetch\u001b[0m\u001b[0;34m(\u001b[0m\u001b[0mindex\u001b[0m\u001b[0;34m)\u001b[0m  \u001b[0;31m# may raise StopIteration\u001b[0m\u001b[0;34m\u001b[0m\u001b[0;34m\u001b[0m\u001b[0m\n\u001b[0m\u001b[1;32m    672\u001b[0m         \u001b[0;32mif\u001b[0m \u001b[0mself\u001b[0m\u001b[0;34m.\u001b[0m\u001b[0m_pin_memory\u001b[0m\u001b[0;34m:\u001b[0m\u001b[0;34m\u001b[0m\u001b[0;34m\u001b[0m\u001b[0m\n\u001b[1;32m    673\u001b[0m             \u001b[0mdata\u001b[0m \u001b[0;34m=\u001b[0m \u001b[0m_utils\u001b[0m\u001b[0;34m.\u001b[0m\u001b[0mpin_memory\u001b[0m\u001b[0;34m.\u001b[0m\u001b[0mpin_memory\u001b[0m\u001b[0;34m(\u001b[0m\u001b[0mdata\u001b[0m\u001b[0;34m,\u001b[0m \u001b[0mself\u001b[0m\u001b[0;34m.\u001b[0m\u001b[0m_pin_memory_device\u001b[0m\u001b[0;34m)\u001b[0m\u001b[0;34m\u001b[0m\u001b[0;34m\u001b[0m\u001b[0m\n",
      "\u001b[0;32m~/opt/anaconda3/lib/python3.9/site-packages/torch/utils/data/_utils/fetch.py\u001b[0m in \u001b[0;36mfetch\u001b[0;34m(self, possibly_batched_index)\u001b[0m\n\u001b[1;32m     59\u001b[0m         \u001b[0;32melse\u001b[0m\u001b[0;34m:\u001b[0m\u001b[0;34m\u001b[0m\u001b[0;34m\u001b[0m\u001b[0m\n\u001b[1;32m     60\u001b[0m             \u001b[0mdata\u001b[0m \u001b[0;34m=\u001b[0m \u001b[0mself\u001b[0m\u001b[0;34m.\u001b[0m\u001b[0mdataset\u001b[0m\u001b[0;34m[\u001b[0m\u001b[0mpossibly_batched_index\u001b[0m\u001b[0;34m]\u001b[0m\u001b[0;34m\u001b[0m\u001b[0;34m\u001b[0m\u001b[0m\n\u001b[0;32m---> 61\u001b[0;31m         \u001b[0;32mreturn\u001b[0m \u001b[0mself\u001b[0m\u001b[0;34m.\u001b[0m\u001b[0mcollate_fn\u001b[0m\u001b[0;34m(\u001b[0m\u001b[0mdata\u001b[0m\u001b[0;34m)\u001b[0m\u001b[0;34m\u001b[0m\u001b[0;34m\u001b[0m\u001b[0m\n\u001b[0m",
      "\u001b[0;32m/var/folders/k6/x52hhfys3bzf1rmrzq9wqznh0000gn/T/ipykernel_81676/2741436020.py\u001b[0m in \u001b[0;36mcollate_fn\u001b[0;34m(data)\u001b[0m\n\u001b[1;32m     43\u001b[0m     \u001b[0my\u001b[0m \u001b[0;34m=\u001b[0m \u001b[0mtorch\u001b[0m\u001b[0;34m.\u001b[0m\u001b[0mzeros\u001b[0m\u001b[0;34m(\u001b[0m\u001b[0;34m(\u001b[0m\u001b[0mn_samples\u001b[0m\u001b[0;34m,\u001b[0m \u001b[0mmaxlen\u001b[0m\u001b[0;34m)\u001b[0m\u001b[0;34m,\u001b[0m\u001b[0mdtype\u001b[0m\u001b[0;34m=\u001b[0m\u001b[0mtorch\u001b[0m\u001b[0;34m.\u001b[0m\u001b[0mfloat\u001b[0m\u001b[0;34m)\u001b[0m\u001b[0;34m\u001b[0m\u001b[0;34m\u001b[0m\u001b[0m\n\u001b[1;32m     44\u001b[0m     \u001b[0;32mfor\u001b[0m \u001b[0midx\u001b[0m\u001b[0;34m,\u001b[0m \u001b[0ms\u001b[0m \u001b[0;32min\u001b[0m \u001b[0menumerate\u001b[0m\u001b[0;34m(\u001b[0m\u001b[0mseqs\u001b[0m\u001b[0;34m)\u001b[0m\u001b[0;34m:\u001b[0m\u001b[0;34m\u001b[0m\u001b[0;34m\u001b[0m\u001b[0m\n\u001b[0;32m---> 45\u001b[0;31m         \u001b[0mx_mask\u001b[0m\u001b[0;34m[\u001b[0m\u001b[0midx\u001b[0m\u001b[0;34m,\u001b[0m \u001b[0;34m:\u001b[0m\u001b[0mlengths\u001b[0m\u001b[0;34m[\u001b[0m\u001b[0midx\u001b[0m\u001b[0;34m]\u001b[0m\u001b[0;34m]\u001b[0m \u001b[0;34m=\u001b[0m \u001b[0;36m1\u001b[0m\u001b[0;34m\u001b[0m\u001b[0;34m\u001b[0m\u001b[0m\n\u001b[0m\u001b[1;32m     46\u001b[0m         \u001b[0;32mfor\u001b[0m \u001b[0mj\u001b[0m\u001b[0;34m,\u001b[0m \u001b[0msj\u001b[0m \u001b[0;32min\u001b[0m \u001b[0menumerate\u001b[0m\u001b[0;34m(\u001b[0m\u001b[0ms\u001b[0m\u001b[0;34m)\u001b[0m\u001b[0;34m:\u001b[0m\u001b[0;34m\u001b[0m\u001b[0;34m\u001b[0m\u001b[0m\n\u001b[1;32m     47\u001b[0m             \u001b[0;32mfor\u001b[0m \u001b[0mtsj\u001b[0m \u001b[0;32min\u001b[0m \u001b[0msj\u001b[0m\u001b[0;34m:\u001b[0m\u001b[0;34m\u001b[0m\u001b[0;34m\u001b[0m\u001b[0m\n",
      "\u001b[0;31mKeyboardInterrupt\u001b[0m: "
     ]
    }
   ],
   "source": [
    "train_loss = []\n",
    "val_loss = []\n",
    "epochs =50\n",
    "for epoch in range(epochs):\n",
    "    print(f\"Epoch {epoch+1} of {epochs}\")\n",
    "    train_epoch_loss = REC_NW_fit(model, train_loader)\n",
    "    #val_epoch_loss = validate(model, val_loader)\n",
    "    train_loss.append(train_epoch_loss)\n",
    "    #val_loss.append(val_epoch_loss)\n",
    "    print(f\"Train Loss: {train_epoch_loss:.4f}\")\n",
    "    #print(f\"Val Loss: {val_epoch_loss:.4f}\")"
   ]
  },
  {
   "cell_type": "markdown",
   "id": "b8e96af8",
   "metadata": {},
   "source": [
    "# Ploting latent space\n",
    "\n",
    "\n",
    "Ablation 1: Recognition Network is a VAE which is projecting the patient data in latent space, using VAE in the architecture makes the data analysis more interpretable"
   ]
  },
  {
   "cell_type": "code",
   "execution_count": null,
   "id": "6113d819",
   "metadata": {},
   "outputs": [],
   "source": [
    "import torch.nn as nn\n",
    "import torch.nn.functional as F\n",
    "import torch.utils\n",
    "import torch.distributions\n",
    "import torchvision\n",
    "import numpy as np\n",
    "import matplotlib.pyplot as plt; plt.rcParams['figure.dpi'] = 200\n",
    "\n",
    "\n",
    "def plot_latent(model, data, num_batches=30):\n",
    "    for i, (x,masks, y) in enumerate(data):\n",
    "        z = model.encode(x)\n",
    "        z = z.numpy()\n",
    "        plt.scatter(z[:, 0], z[:, 1], c=y, cmap='tab10')\n",
    "        if i > num_batches:\n",
    "            plt.colorbar()\n",
    "            break"
   ]
  },
  {
   "cell_type": "code",
   "execution_count": null,
   "id": "922152da",
   "metadata": {},
   "outputs": [],
   "source": []
  },
  {
   "cell_type": "markdown",
   "id": "4ab688e9",
   "metadata": {},
   "source": [
    "# Logistic Regression layer\n",
    "\n",
    "ref: https://towardsdatascience.com/logistic-regression-with-pytorch-3c8bbea594be"
   ]
  },
  {
   "cell_type": "code",
   "execution_count": 981,
   "id": "39c2b617",
   "metadata": {},
   "outputs": [],
   "source": [
    "class LogisticRegression(torch.nn.Module):\n",
    "    def __init__(self, input_dim, output_dim):\n",
    "        super(LogisticRegression, self).__init__()\n",
    "        self.linear = torch.nn.Linear(input_dim,output_dim)\n",
    "    def forward(self,hx):\n",
    "        \n",
    "        out = torch.sigmoid(self.linear(hx))\n",
    "        out = out.squeeze().reshape(out.shape[1],out.shape[0])\n",
    "        #print(out.shape, out)\n",
    "        return out"
   ]
  },
  {
   "cell_type": "code",
   "execution_count": 982,
   "id": "016dd9fa",
   "metadata": {},
   "outputs": [],
   "source": [
    "regression_model = LogisticRegression(100,1)\n",
    "criterion = torch.nn.BCELoss()"
   ]
  },
  {
   "cell_type": "markdown",
   "id": "ab263bff",
   "metadata": {},
   "source": [
    "# Calculate Logistic Regression loss\n"
   ]
  },
  {
   "cell_type": "code",
   "execution_count": 984,
   "id": "b1b05038",
   "metadata": {},
   "outputs": [],
   "source": [
    "def get_logistic_regressionLoss(y_hat, y):\n",
    "    #print(\"y_hat.shape\", y_hat.shape)\n",
    "    #print(\"y.shape\", y.shape)\n",
    "    loss = criterion(y_hat,y)\n",
    "    return loss"
   ]
  },
  {
   "cell_type": "markdown",
   "id": "91d4fa9c",
   "metadata": {},
   "source": [
    "\n",
    "# CONTENT MODEL\n",
    "This model brings the GRU, REC_Network and Logistic Regression layers together and apply training on the assembly of networks.\n"
   ]
  },
  {
   "cell_type": "code",
   "execution_count": 985,
   "id": "173b29d0",
   "metadata": {},
   "outputs": [],
   "source": [
    "class CONTENT(torch.nn.Module):\n",
    "    def __init__(self, input_dim, out_dim):\n",
    "        super(CONTENT, self).__init__()\n",
    "        self.gru = GRU(global_config.input_dim, 100,1,200)\n",
    "        self.rec_nw = REC_NW(global_config.input_dim, 50,100)\n",
    "        self.regression = LogisticRegression(50,1)\n",
    "        \n",
    "        \n",
    "        self.Lb = nn.Linear(in_features =input_dim, out_features =  50)\n",
    "        self.simpleLinear = nn.Linear(100,50)\n",
    "\n",
    "\n",
    "        \n",
    "        return\n",
    "    def get_Losses(self,x,y):\n",
    "        rec_nw_loss = get_REC_NW_loss(self.z,x,self.mu,self.log_var)\n",
    "        gru_loss = get_GRU_loss(self.hx,x)\n",
    "        regressionloss = get_regression_loss(self.h,x,y)\n",
    "        \n",
    "    def forward(self, x,masks,y):\n",
    "        self.hx = self.gru(x,masks)\n",
    "        hx_for_loss = self.hx\n",
    "        self.x_reconstruct,self.mu,self.log_var,z = self.rec_nw(x)\n",
    "        \n",
    "        \n",
    "        lb_out = self.Lb(x)\n",
    "      \n",
    "        long_context = torch.mul(z,lb_out)\n",
    "       \n",
    "        #print(\"h shape\", self.hx.shape)\n",
    "        self.hx = self.simpleLinear(self.hx)\n",
    "        long_context = long_context.view(long_context.shape[1],long_context.shape[0],long_context.shape[2])\n",
    "        #print(\"long_context.shape\",long_context.shape)\n",
    "        self.h = torch.add(self.hx,long_context)\n",
    "        #print(\"self.h.shape\", self.h.shape)\n",
    "        self.y_hat = self.regression(self.h)\n",
    "        return self.y_hat,self.mu,self.log_var,self.x_reconstruct, hx_for_loss\n",
    "                        \n",
    "        "
   ]
  },
  {
   "cell_type": "code",
   "execution_count": 986,
   "id": "113eb4d9",
   "metadata": {},
   "outputs": [],
   "source": [
    "content_model = CONTENT(INPUT_DIM, OUT_DIM)"
   ]
  },
  {
   "cell_type": "markdown",
   "id": "836a6187",
   "metadata": {},
   "source": [
    "# Calculate content model loss\n"
   ]
  },
  {
   "cell_type": "code",
   "execution_count": 987,
   "id": "21b95969",
   "metadata": {},
   "outputs": [],
   "source": [
    "def get_total_loss(x,x_hat,y_hat, mu, log_var,y,hx):\n",
    "    rec_nw_loss = get_REC_NW_loss(x_hat,x,mu,log_var)\n",
    "    lr_loss = get_logistic_regressionLoss(y_hat,y)\n",
    "    gru_loss = get_GRU_loss(hx,y)\n",
    "    return rec_nw_loss+lr_loss+gru_loss"
   ]
  },
  {
   "cell_type": "code",
   "execution_count": 988,
   "id": "83362e5e",
   "metadata": {},
   "outputs": [],
   "source": [
    "def content_fit(model, dataloader):\n",
    "    model.train()\n",
    "    total_loss = 0.0\n",
    "    running_content_loss =0.0\n",
    "    for x, masks, y in dataloader:\n",
    "        \n",
    "        #x = x.view(-1, INPUT_DIM)\n",
    "        #print(x.shape)\n",
    "        x = torch.nn.functional.normalize(x, dim=1)\n",
    "        \n",
    "        optimizer.zero_grad()\n",
    "        y_hat, mu, log_var,x_reconstruct,hx = model(x,masks,y)\n",
    "        \n",
    "        loss = get_total_loss(x,x_reconstruct,y_hat,mu, log_var,y,hx)\n",
    "        total_loss += loss.item()\n",
    "        loss.backward()\n",
    "        optimizer.step()\n",
    "        \n",
    "    train_loss = total_loss/len(train_loader)\n",
    "    print('Epoch: {} \\t Training Loss: {:.6f}'.format(epoch+1, train_loss))\n",
    "    return train_loss"
   ]
  },
  {
   "cell_type": "code",
   "execution_count": 989,
   "id": "570d657d",
   "metadata": {},
   "outputs": [
    {
     "name": "stdout",
     "output_type": "stream",
     "text": [
      "Epoch 1 of 5\n"
     ]
    },
    {
     "ename": "KeyboardInterrupt",
     "evalue": "",
     "output_type": "error",
     "traceback": [
      "\u001b[0;31m---------------------------------------------------------------------------\u001b[0m",
      "\u001b[0;31mKeyboardInterrupt\u001b[0m                         Traceback (most recent call last)",
      "\u001b[0;32m/var/folders/k6/x52hhfys3bzf1rmrzq9wqznh0000gn/T/ipykernel_81676/1065702078.py\u001b[0m in \u001b[0;36m<module>\u001b[0;34m\u001b[0m\n\u001b[1;32m      4\u001b[0m \u001b[0;32mfor\u001b[0m \u001b[0mepoch\u001b[0m \u001b[0;32min\u001b[0m \u001b[0mrange\u001b[0m\u001b[0;34m(\u001b[0m\u001b[0mepochs\u001b[0m\u001b[0;34m)\u001b[0m\u001b[0;34m:\u001b[0m\u001b[0;34m\u001b[0m\u001b[0;34m\u001b[0m\u001b[0m\n\u001b[1;32m      5\u001b[0m     \u001b[0mprint\u001b[0m\u001b[0;34m(\u001b[0m\u001b[0;34mf\"Epoch {epoch+1} of {epochs}\"\u001b[0m\u001b[0;34m)\u001b[0m\u001b[0;34m\u001b[0m\u001b[0;34m\u001b[0m\u001b[0m\n\u001b[0;32m----> 6\u001b[0;31m     \u001b[0mtrain_epoch_loss\u001b[0m \u001b[0;34m=\u001b[0m \u001b[0mcontent_fit\u001b[0m\u001b[0;34m(\u001b[0m\u001b[0mcontent_model\u001b[0m\u001b[0;34m,\u001b[0m \u001b[0mtrain_loader\u001b[0m\u001b[0;34m)\u001b[0m\u001b[0;34m\u001b[0m\u001b[0;34m\u001b[0m\u001b[0m\n\u001b[0m\u001b[1;32m      7\u001b[0m     \u001b[0;31m#val_epoch_loss = validate(model, val_loader)\u001b[0m\u001b[0;34m\u001b[0m\u001b[0;34m\u001b[0m\u001b[0m\n\u001b[1;32m      8\u001b[0m     \u001b[0mtrain_loss\u001b[0m\u001b[0;34m.\u001b[0m\u001b[0mappend\u001b[0m\u001b[0;34m(\u001b[0m\u001b[0mtrain_epoch_loss\u001b[0m\u001b[0;34m)\u001b[0m\u001b[0;34m\u001b[0m\u001b[0;34m\u001b[0m\u001b[0m\n",
      "\u001b[0;32m/var/folders/k6/x52hhfys3bzf1rmrzq9wqznh0000gn/T/ipykernel_81676/2424607939.py\u001b[0m in \u001b[0;36mcontent_fit\u001b[0;34m(model, dataloader)\u001b[0m\n\u001b[1;32m     14\u001b[0m         \u001b[0mloss\u001b[0m \u001b[0;34m=\u001b[0m \u001b[0mget_total_loss\u001b[0m\u001b[0;34m(\u001b[0m\u001b[0mx\u001b[0m\u001b[0;34m,\u001b[0m\u001b[0mx_reconstruct\u001b[0m\u001b[0;34m,\u001b[0m\u001b[0my_hat\u001b[0m\u001b[0;34m,\u001b[0m\u001b[0mmu\u001b[0m\u001b[0;34m,\u001b[0m \u001b[0mlog_var\u001b[0m\u001b[0;34m,\u001b[0m\u001b[0my\u001b[0m\u001b[0;34m,\u001b[0m\u001b[0mhx\u001b[0m\u001b[0;34m)\u001b[0m\u001b[0;34m\u001b[0m\u001b[0;34m\u001b[0m\u001b[0m\n\u001b[1;32m     15\u001b[0m         \u001b[0mtotal_loss\u001b[0m \u001b[0;34m+=\u001b[0m \u001b[0mloss\u001b[0m\u001b[0;34m.\u001b[0m\u001b[0mitem\u001b[0m\u001b[0;34m(\u001b[0m\u001b[0;34m)\u001b[0m\u001b[0;34m\u001b[0m\u001b[0;34m\u001b[0m\u001b[0m\n\u001b[0;32m---> 16\u001b[0;31m         \u001b[0mloss\u001b[0m\u001b[0;34m.\u001b[0m\u001b[0mbackward\u001b[0m\u001b[0;34m(\u001b[0m\u001b[0;34m)\u001b[0m\u001b[0;34m\u001b[0m\u001b[0;34m\u001b[0m\u001b[0m\n\u001b[0m\u001b[1;32m     17\u001b[0m         \u001b[0moptimizer\u001b[0m\u001b[0;34m.\u001b[0m\u001b[0mstep\u001b[0m\u001b[0;34m(\u001b[0m\u001b[0;34m)\u001b[0m\u001b[0;34m\u001b[0m\u001b[0;34m\u001b[0m\u001b[0m\n\u001b[1;32m     18\u001b[0m \u001b[0;34m\u001b[0m\u001b[0m\n",
      "\u001b[0;32m~/opt/anaconda3/lib/python3.9/site-packages/torch/_tensor.py\u001b[0m in \u001b[0;36mbackward\u001b[0;34m(self, gradient, retain_graph, create_graph, inputs)\u001b[0m\n\u001b[1;32m    486\u001b[0m                 \u001b[0minputs\u001b[0m\u001b[0;34m=\u001b[0m\u001b[0minputs\u001b[0m\u001b[0;34m,\u001b[0m\u001b[0;34m\u001b[0m\u001b[0;34m\u001b[0m\u001b[0m\n\u001b[1;32m    487\u001b[0m             )\n\u001b[0;32m--> 488\u001b[0;31m         torch.autograd.backward(\n\u001b[0m\u001b[1;32m    489\u001b[0m             \u001b[0mself\u001b[0m\u001b[0;34m,\u001b[0m \u001b[0mgradient\u001b[0m\u001b[0;34m,\u001b[0m \u001b[0mretain_graph\u001b[0m\u001b[0;34m,\u001b[0m \u001b[0mcreate_graph\u001b[0m\u001b[0;34m,\u001b[0m \u001b[0minputs\u001b[0m\u001b[0;34m=\u001b[0m\u001b[0minputs\u001b[0m\u001b[0;34m\u001b[0m\u001b[0;34m\u001b[0m\u001b[0m\n\u001b[1;32m    490\u001b[0m         )\n",
      "\u001b[0;32m~/opt/anaconda3/lib/python3.9/site-packages/torch/autograd/__init__.py\u001b[0m in \u001b[0;36mbackward\u001b[0;34m(tensors, grad_tensors, retain_graph, create_graph, grad_variables, inputs)\u001b[0m\n\u001b[1;32m    195\u001b[0m     \u001b[0;31m# some Python versions print out the first line of a multi-line function\u001b[0m\u001b[0;34m\u001b[0m\u001b[0;34m\u001b[0m\u001b[0m\n\u001b[1;32m    196\u001b[0m     \u001b[0;31m# calls in the traceback and some print out the last line\u001b[0m\u001b[0;34m\u001b[0m\u001b[0;34m\u001b[0m\u001b[0m\n\u001b[0;32m--> 197\u001b[0;31m     Variable._execution_engine.run_backward(  # Calls into the C++ engine to run the backward pass\n\u001b[0m\u001b[1;32m    198\u001b[0m         \u001b[0mtensors\u001b[0m\u001b[0;34m,\u001b[0m \u001b[0mgrad_tensors_\u001b[0m\u001b[0;34m,\u001b[0m \u001b[0mretain_graph\u001b[0m\u001b[0;34m,\u001b[0m \u001b[0mcreate_graph\u001b[0m\u001b[0;34m,\u001b[0m \u001b[0minputs\u001b[0m\u001b[0;34m,\u001b[0m\u001b[0;34m\u001b[0m\u001b[0;34m\u001b[0m\u001b[0m\n\u001b[1;32m    199\u001b[0m         allow_unreachable=True, accumulate_grad=True)  # Calls into the C++ engine to run the backward pass\n",
      "\u001b[0;31mKeyboardInterrupt\u001b[0m: "
     ]
    }
   ],
   "source": [
    "train_loss = []\n",
    "val_loss = []\n",
    "epochs =5\n",
    "for epoch in range(epochs):\n",
    "    print(f\"Epoch {epoch+1} of {epochs}\")\n",
    "    train_epoch_loss = content_fit(content_model, train_loader)\n",
    "    #val_epoch_loss = validate(model, val_loader)\n",
    "    train_loss.append(train_epoch_loss)\n"
   ]
  },
  {
   "cell_type": "code",
   "execution_count": 25,
   "id": "298a4e07",
   "metadata": {},
   "outputs": [],
   "source": [
    "\n"
   ]
  },
  {
   "cell_type": "code",
   "execution_count": null,
   "id": "71155d27",
   "metadata": {},
   "outputs": [],
   "source": []
  },
  {
   "cell_type": "code",
   "execution_count": 12,
   "id": "458e59c3",
   "metadata": {},
   "outputs": [],
   "source": []
  },
  {
   "cell_type": "code",
   "execution_count": 9,
   "id": "83e32f0a",
   "metadata": {},
   "outputs": [],
   "source": []
  },
  {
   "cell_type": "code",
   "execution_count": null,
   "id": "4d709efa",
   "metadata": {},
   "outputs": [],
   "source": [
    "\n",
    "\n"
   ]
  },
  {
   "cell_type": "code",
   "execution_count": null,
   "id": "83b9e52f",
   "metadata": {},
   "outputs": [],
   "source": []
  }
 ],
 "metadata": {
  "kernelspec": {
   "display_name": "Python 3 (ipykernel)",
   "language": "python",
   "name": "python3"
  },
  "language_info": {
   "codemirror_mode": {
    "name": "ipython",
    "version": 3
   },
   "file_extension": ".py",
   "mimetype": "text/x-python",
   "name": "python",
   "nbconvert_exporter": "python",
   "pygments_lexer": "ipython3",
   "version": "3.9.7"
  }
 },
 "nbformat": 4,
 "nbformat_minor": 5
}
